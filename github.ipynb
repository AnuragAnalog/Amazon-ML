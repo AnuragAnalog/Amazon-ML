{
  "nbformat": 4,
  "nbformat_minor": 0,
  "metadata": {
    "colab": {
      "name": "Amazon_ML_Glove_Embedding_with_CNN.ipynb",
      "provenance": []
    },
    "kernelspec": {
      "name": "python3",
      "display_name": "Python 3"
    },
    "language_info": {
      "name": "python"
    },
    "accelerator": "TPU"
  },
  "cells": [
    {
      "cell_type": "code",
      "metadata": {
        "colab": {
          "base_uri": "https://localhost:8080/"
        },
        "id": "LyLJk3IV7e39",
        "outputId": "eb6b0837-7c6c-45a7-9241-6533b16bc8ea"
      },
      "source": [
        "import numpy as np\n",
        "import csv\n",
        "import pandas as pd\n",
        "import tensorflow as tf\n",
        "from tensorflow.keras.preprocessing import text, sequence\n",
        "from tensorflow.keras.models import Sequential\n",
        "from tensorflow.keras.layers import Dense, Dropout, Activation\n",
        "from tensorflow.keras.layers import Embedding\n",
        "from tensorflow.keras.layers import Conv1D, GlobalMaxPooling1D, MaxPooling1D\n",
        "from sklearn.model_selection import train_test_split\n",
        "\n",
        "from keras.callbacks import EarlyStopping\n",
        "from keras.optimizers import SGD, RMSprop, Adagrad, Adadelta, Adam, Adamax, Nadam#Try all of these\n",
        "\n",
        "print(tf.__version__)"
      ],
      "execution_count": 4,
      "outputs": [
        {
          "output_type": "stream",
          "text": [
            "2.5.0\n"
          ],
          "name": "stdout"
        }
      ]
    },
    {
      "cell_type": "code",
      "metadata": {
        "colab": {
          "base_uri": "https://localhost:8080/"
        },
        "id": "MfQJxQLb76jp",
        "outputId": "bb45954f-0ee7-44be-b639-c25dea1cf187"
      },
      "source": [
        "!wget \"https://s3-ap-southeast-1.amazonaws.com/he-public-data/dataset52a7b21.zip\" "
      ],
      "execution_count": 1,
      "outputs": [
        {
          "output_type": "stream",
          "text": [
            "--2021-07-30 20:33:52--  https://s3-ap-southeast-1.amazonaws.com/he-public-data/dataset52a7b21.zip\n",
            "Resolving s3-ap-southeast-1.amazonaws.com (s3-ap-southeast-1.amazonaws.com)... 52.219.36.226\n",
            "Connecting to s3-ap-southeast-1.amazonaws.com (s3-ap-southeast-1.amazonaws.com)|52.219.36.226|:443... connected.\n",
            "HTTP request sent, awaiting response... 200 OK\n",
            "Length: 1061576029 (1012M) [binary/octet-stream]\n",
            "Saving to: ‘dataset52a7b21.zip’\n",
            "\n",
            "dataset52a7b21.zip  100%[===================>]   1012M  13.9MB/s    in 76s     \n",
            "\n",
            "2021-07-30 20:35:09 (13.4 MB/s) - ‘dataset52a7b21.zip’ saved [1061576029/1061576029]\n",
            "\n"
          ],
          "name": "stdout"
        }
      ]
    },
    {
      "cell_type": "code",
      "metadata": {
        "colab": {
          "base_uri": "https://localhost:8080/"
        },
        "id": "9uVAJljo9zW6",
        "outputId": "a3e9d99a-7f4d-42a7-efed-3a99fa3b4417"
      },
      "source": [
        "!unzip /content/dataset52a7b21.zip"
      ],
      "execution_count": 2,
      "outputs": [
        {
          "output_type": "stream",
          "text": [
            "Archive:  /content/dataset52a7b21.zip\n",
            "   creating: dataset/\n",
            "  inflating: dataset/train.csv       \n",
            "  inflating: dataset/sample_submission.csv  \n",
            "  inflating: dataset/test.csv        \n",
            "  inflating: dataset/.~lock.train.csv#  \n"
          ],
          "name": "stdout"
        }
      ]
    },
    {
      "cell_type": "code",
      "metadata": {
        "id": "64S_1Iyw-FQu"
      },
      "source": [
        "train_df=pd.read_csv('dataset/train.csv',escapechar = \"\\\\\",quoting = csv.QUOTE_NONE)"
      ],
      "execution_count": 5,
      "outputs": []
    },
    {
      "cell_type": "code",
      "metadata": {
        "id": "-_EMrIO4G6xJ"
      },
      "source": [
        "!rm dataset/train.csv"
      ],
      "execution_count": 7,
      "outputs": []
    },
    {
      "cell_type": "code",
      "metadata": {
        "id": "GpGbsCIc8SgA"
      },
      "source": [
        "x = train_df['TITLE'].astype('str')"
      ],
      "execution_count": 8,
      "outputs": []
    },
    {
      "cell_type": "code",
      "metadata": {
        "id": "UzccOX546Mcs"
      },
      "source": [
        "y = train_df['BROWSE_NODE_ID']"
      ],
      "execution_count": 9,
      "outputs": []
    },
    {
      "cell_type": "code",
      "metadata": {
        "id": "IUjbeiAq6MCz"
      },
      "source": [
        "del(train_df)"
      ],
      "execution_count": 10,
      "outputs": []
    },
    {
      "cell_type": "code",
      "metadata": {
        "colab": {
          "base_uri": "https://localhost:8080/",
          "height": 607
        },
        "id": "Ozz447388kUA",
        "outputId": "027c7f88-1752-4dbe-c00a-c399c9469e6f"
      },
      "source": [
        "from wordcloud import WordCloud, STOPWORDS\n",
        "import matplotlib.pyplot as plt\n",
        "comments = x.values\n",
        "wordcloud = WordCloud(\n",
        "    width = 640,\n",
        "    height = 640,\n",
        "    background_color = 'black',\n",
        "    stopwords = STOPWORDS).generate(str(comments))\n",
        "fig = plt.figure(\n",
        "    figsize = (12, 8),\n",
        "    facecolor = 'k',\n",
        "    edgecolor = 'k')\n",
        "plt.imshow(wordcloud, interpolation = 'bilinear')\n",
        "plt.axis('off')\n",
        "plt.tight_layout(pad=0)\n",
        "plt.show()"
      ],
      "execution_count": 11,
      "outputs": [
        {
          "output_type": "display_data",
          "data": {
            "image/png": "[encoded data removed]",
            "text/plain": [
              "<Figure size 864x576 with 1 Axes>"
            ]
          },
          "metadata": {
            "tags": []
          }
        }
      ]
    },
    {
      "cell_type": "code",
      "metadata": {
        "colab": {
          "base_uri": "https://localhost:8080/",
          "height": 306
        },
        "id": "jxyC6CrX-i-h",
        "outputId": "5fe43a2a-f17a-4db3-efb5-c1a60bfd3156"
      },
      "source": [
        "y.plot(kind='hist') # so most of the node ids are between 0 and 0..3e6. This is the kind of biased train data we are given."
      ],
      "execution_count": 12,
      "outputs": [
        {
          "output_type": "execute_result",
          "data": {
            "text/plain": [
              "<matplotlib.axes._subplots.AxesSubplot at 0x7f83383108d0>"
            ]
          },
          "metadata": {
            "tags": []
          },
          "execution_count": 12
        },
        {
          "output_type": "display_data",
          "data": {
            "image/png": "[encoded data removed]",
            "text/plain": [
              "<Figure size 432x288 with 1 Axes>"
            ]
          },
          "metadata": {
            "tags": [],
            "needs_background": "light"
          }
        }
      ]
    },
    {
      "cell_type": "code",
      "metadata": {
        "id": "SWhnsWID-8LT"
      },
      "source": [
        "max_features = 200000\n",
        "max_text_length = 400 #find the text with max length in code and change it for each column"
      ],
      "execution_count": 13,
      "outputs": []
    },
    {
      "cell_type": "code",
      "metadata": {
        "id": "R7SYc_Mp_aDn",
        "colab": {
          "base_uri": "https://localhost:8080/"
        },
        "outputId": "0b6ea1bc-c676-4448-c5cf-08238e932be5"
      },
      "source": [
        "x_tokenizer =text.Tokenizer(max_features)\n",
        "x_tokenizer.fit_on_texts(list(x))\n",
        "print(\"Happened\")\n",
        "x_tokenized = x_tokenizer.texts_to_sequences(x)\n",
        "print(\"Happened\")\n",
        "x_train_val = sequence.pad_sequences(x_tokenized, maxlen=max_text_length)"
      ],
      "execution_count": 15,
      "outputs": [
        {
          "output_type": "stream",
          "text": [
            "Happened\n",
            "Happened\n"
          ],
          "name": "stdout"
        }
      ]
    },
    {
      "cell_type": "code",
      "metadata": {
        "id": "7x-yg228Kum_"
      },
      "source": [
        "del(x)"
      ],
      "execution_count": 20,
      "outputs": []
    },
    {
      "cell_type": "code",
      "metadata": {
        "id": "pQKBZqgl7Eky",
        "outputId": "d1b65cc4-c32d-4189-83a9-b10731032939",
        "colab": {
          "base_uri": "https://localhost:8080/"
        }
      },
      "source": [
        "x_tokenizer.word_index#sanity check"
      ],
      "execution_count": 16,
      "outputs": [
        {
          "output_type": "execute_result",
          "data": {
            "text/plain": [
              "{'for': 1,\n",
              " 'with': 2,\n",
              " 'cover': 3,\n",
              " 'and': 4,\n",
              " 'black': 5,\n",
              " 'of': 6,\n",
              " \"women's\": 7,\n",
              " '2': 8,\n",
              " \"men's\": 9,\n",
              " 'back': 10,\n",
              " 'cotton': 11,\n",
              " 'printed': 12,\n",
              " 'blue': 13,\n",
              " 'case': 14,\n",
              " 'set': 15,\n",
              " '1': 16,\n",
              " 'pack': 17,\n",
              " '3': 18,\n",
              " 'white': 19,\n",
              " '5': 20,\n",
              " 'women': 21,\n",
              " 'x': 22,\n",
              " 'fit': 23,\n",
              " 'shirt': 24,\n",
              " '6': 25,\n",
              " '4': 26,\n",
              " 'size': 27,\n",
              " 'red': 28,\n",
              " 't': 29,\n",
              " 'designer': 30,\n",
              " 'large': 31,\n",
              " 'girls': 32,\n",
              " 'inch': 33,\n",
              " '8': 34,\n",
              " 'pink': 35,\n",
              " 'regular': 36,\n",
              " 'color': 37,\n",
              " 'in': 38,\n",
              " '7': 39,\n",
              " 'green': 40,\n",
              " '10': 41,\n",
              " 'men': 42,\n",
              " 'hard': 43,\n",
              " 'samsung': 44,\n",
              " 'soft': 45,\n",
              " 'home': 46,\n",
              " 'slim': 47,\n",
              " 'leather': 48,\n",
              " 'car': 49,\n",
              " 'light': 50,\n",
              " 'galaxy': 51,\n",
              " 'casual': 52,\n",
              " 'grey': 53,\n",
              " 'free': 54,\n",
              " 'mobile': 55,\n",
              " 'pro': 56,\n",
              " 'glass': 57,\n",
              " 'by': 58,\n",
              " 'brown': 59,\n",
              " 'baby': 60,\n",
              " 'gold': 61,\n",
              " 'dress': 62,\n",
              " 'design': 63,\n",
              " '12': 64,\n",
              " 'kids': 65,\n",
              " 'uk': 66,\n",
              " 'shoes': 67,\n",
              " 'yellow': 68,\n",
              " 'full': 69,\n",
              " 'multi': 70,\n",
              " 'silver': 71,\n",
              " '9': 72,\n",
              " 'm': 73,\n",
              " 'combo': 74,\n",
              " '100': 75,\n",
              " 'wall': 76,\n",
              " 'bag': 77,\n",
              " 'top': 78,\n",
              " 'cm': 79,\n",
              " 'years': 80,\n",
              " 'to': 81,\n",
              " 'steel': 82,\n",
              " 'plus': 83,\n",
              " 'the': 84,\n",
              " 'a': 85,\n",
              " 'compatible': 86,\n",
              " 'small': 87,\n",
              " 'piece': 88,\n",
              " 'flip': 89,\n",
              " 'print': 90,\n",
              " 'solid': 91,\n",
              " 'medium': 92,\n",
              " 'fashion': 93,\n",
              " 'plastic': 94,\n",
              " 'eu': 95,\n",
              " 's': 96,\n",
              " 'gift': 97,\n",
              " 'l': 98,\n",
              " 'saree': 99,\n",
              " 'round': 100,\n",
              " 'india': 101,\n",
              " 'navy': 102,\n",
              " 'boys': 103,\n",
              " 'long': 104,\n",
              " 'kurta': 105,\n",
              " 'sleeve': 106,\n",
              " 'water': 107,\n",
              " 'led': 108,\n",
              " '0': 109,\n",
              " 'silk': 110,\n",
              " 'art': 111,\n",
              " 'holder': 112,\n",
              " 'redmi': 113,\n",
              " 'usb': 114,\n",
              " 'plain': 115,\n",
              " 'screen': 116,\n",
              " 'charger': 117,\n",
              " 'vivo': 118,\n",
              " 'multicolor': 119,\n",
              " 'anti': 120,\n",
              " 'neck': 121,\n",
              " 'box': 122,\n",
              " 'stainless': 123,\n",
              " 'stand': 124,\n",
              " 'hair': 125,\n",
              " 'body': 126,\n",
              " '3d': 127,\n",
              " 'non': 128,\n",
              " 'ml': 129,\n",
              " 'generic': 130,\n",
              " 'note': 131,\n",
              " 'inches': 132,\n",
              " 'blouse': 133,\n",
              " 'silicone': 134,\n",
              " 'us': 135,\n",
              " 'high': 136,\n",
              " 'double': 137,\n",
              " 'cable': 138,\n",
              " 'laptop': 139,\n",
              " '11': 140,\n",
              " 'pcs': 141,\n",
              " 'kit': 142,\n",
              " 'kitchen': 143,\n",
              " 'orange': 144,\n",
              " 'metal': 145,\n",
              " 'room': 146,\n",
              " 'bra': 147,\n",
              " 'iphone': 148,\n",
              " 'xl': 149,\n",
              " 'natural': 150,\n",
              " 'all': 151,\n",
              " 'on': 152,\n",
              " 'mini': 153,\n",
              " '15': 154,\n",
              " 'oppo': 155,\n",
              " 'hand': 156,\n",
              " 'protector': 157,\n",
              " 'colour': 158,\n",
              " 'sports': 159,\n",
              " 'dark': 160,\n",
              " 'party': 161,\n",
              " 'tempered': 162,\n",
              " 'flower': 163,\n",
              " 'wear': 164,\n",
              " 'wooden': 165,\n",
              " 'jeans': 166,\n",
              " 'storage': 167,\n",
              " 'running': 168,\n",
              " 'skin': 169,\n",
              " 'xiaomi': 170,\n",
              " 'card': 171,\n",
              " 'multicolour': 172,\n",
              " 'ring': 173,\n",
              " 'pure': 174,\n",
              " 'decor': 175,\n",
              " 'formal': 176,\n",
              " 'quality': 177,\n",
              " 'premium': 178,\n",
              " 'wallet': 179,\n",
              " 'one': 180,\n",
              " '40': 181,\n",
              " '18': 182,\n",
              " 'table': 183,\n",
              " 'door': 184,\n",
              " 'covers': 185,\n",
              " 'half': 186,\n",
              " 'unisex': 187,\n",
              " 'floral': 188,\n",
              " 'office': 189,\n",
              " 'purple': 190,\n",
              " 'fabric': 191,\n",
              " 'power': 192,\n",
              " 'transparent': 193,\n",
              " '20': 194,\n",
              " 'style': 195,\n",
              " 'protection': 196,\n",
              " 'new': 197,\n",
              " 'feet': 198,\n",
              " 'pillow': 199,\n",
              " 'apple': 200,\n",
              " 'bottle': 201,\n",
              " 'polyester': 202,\n",
              " 'shorts': 203,\n",
              " 'air': 204,\n",
              " '16': 205,\n",
              " 'straight': 206,\n",
              " 'mirror': 207,\n",
              " 'mug': 208,\n",
              " 'waterproof': 209,\n",
              " '30': 210,\n",
              " 'phone': 211,\n",
              " 'face': 212,\n",
              " 'line': 213,\n",
              " 'oil': 214,\n",
              " \"girl's\": 215,\n",
              " 'up': 216,\n",
              " 'coffee': 217,\n",
              " 'beige': 218,\n",
              " 'max': 219,\n",
              " 'ultra': 220,\n",
              " 'matte': 221,\n",
              " 'pieces': 222,\n",
              " 'bed': 223,\n",
              " 'toy': 224,\n",
              " 'golden': 225,\n",
              " 'birthday': 226,\n",
              " 'battery': 227,\n",
              " 'clear': 228,\n",
              " 'watch': 229,\n",
              " 'maroon': 230,\n",
              " 'wood': 231,\n",
              " 'series': 232,\n",
              " 'finish': 233,\n",
              " '24': 234,\n",
              " 'suit': 235,\n",
              " 'seeds': 236,\n",
              " 'adapter': 237,\n",
              " 'living': 238,\n",
              " 'colors': 239,\n",
              " 'polo': 240,\n",
              " 'c': 241,\n",
              " 'digital': 242,\n",
              " \"boy's\": 243,\n",
              " 'girl': 244,\n",
              " 'cream': 245,\n",
              " 'plated': 246,\n",
              " 'outdoor': 247,\n",
              " 'smart': 248,\n",
              " 'womens': 249,\n",
              " 'bike': 250,\n",
              " '50': 251,\n",
              " 'camera': 252,\n",
              " 'collection': 253,\n",
              " 'cute': 254,\n",
              " 'edge': 255,\n",
              " 'pc': 256,\n",
              " '13': 257,\n",
              " 'canvas': 258,\n",
              " 'adjustable': 259,\n",
              " '25': 260,\n",
              " 'portable': 261,\n",
              " 'royal': 262,\n",
              " '14': 263,\n",
              " 'travel': 264,\n",
              " 'paper': 265,\n",
              " 'cushion': 266,\n",
              " 'super': 267,\n",
              " 'mi': 268,\n",
              " 'dual': 269,\n",
              " 'length': 270,\n",
              " 'mens': 271,\n",
              " 'pants': 272,\n",
              " 'love': 273,\n",
              " 'sleeves': 274,\n",
              " 'brand': 275,\n",
              " 'night': 276,\n",
              " 'frame': 277,\n",
              " 'single': 278,\n",
              " 'painting': 279,\n",
              " 'pattern': 280,\n",
              " 'g': 281,\n",
              " 'front': 282,\n",
              " 'kurti': 283,\n",
              " 'realme': 284,\n",
              " 'accessories': 285,\n",
              " 'padded': 286,\n",
              " 'rubber': 287,\n",
              " \"girls'\": 288,\n",
              " 'garden': 289,\n",
              " 'sneakers': 290,\n",
              " 'decoration': 291,\n",
              " 'i': 292,\n",
              " 'hanging': 293,\n",
              " 'rose': 294,\n",
              " 'ceramic': 295,\n",
              " '36': 296,\n",
              " 'decorative': 297,\n",
              " 'gym': 298,\n",
              " 'earrings': 299,\n",
              " 'magnetic': 300,\n",
              " 'stone': 301,\n",
              " 'synthetic': 302,\n",
              " 'months': 303,\n",
              " 'mm': 304,\n",
              " 'brass': 305,\n",
              " 'best': 306,\n",
              " 'short': 307,\n",
              " 'machine': 308,\n",
              " 'wireless': 309,\n",
              " 'type': 310,\n",
              " 'slip': 311,\n",
              " 'proof': 312,\n",
              " 'pen': 313,\n",
              " 'jacket': 314,\n",
              " 'necklace': 315,\n",
              " 'curtain': 316,\n",
              " 'lamp': 317,\n",
              " 'shape': 318,\n",
              " 'w': 319,\n",
              " 'or': 320,\n",
              " 'belt': 321,\n",
              " 'rayon': 322,\n",
              " 'crystal': 323,\n",
              " 'poster': 324,\n",
              " 'tool': 325,\n",
              " 'pocket': 326,\n",
              " 'mask': 327,\n",
              " 'window': 328,\n",
              " 'handmade': 329,\n",
              " 'heavy': 330,\n",
              " 'hd': 331,\n",
              " 'hot': 332,\n",
              " 'side': 333,\n",
              " '42': 334,\n",
              " 'tpu': 335,\n",
              " 'mat': 336,\n",
              " 'handle': 337,\n",
              " 'no': 338,\n",
              " 'sandals': 339,\n",
              " 'guard': 340,\n",
              " 'pouch': 341,\n",
              " 'brush': 342,\n",
              " 'indian': 343,\n",
              " 'traditional': 344,\n",
              " '32': 345,\n",
              " 'bluetooth': 346,\n",
              " '38': 347,\n",
              " 'dog': 348,\n",
              " 'lace': 349,\n",
              " 'xx': 350,\n",
              " 'tea': 351,\n",
              " 'resistant': 352,\n",
              " 'model': 353,\n",
              " 'cup': 354,\n",
              " 'xxl': 355,\n",
              " 'amazon': 356,\n",
              " 'sticker': 357,\n",
              " 'jewellery': 358,\n",
              " 'diy': 359,\n",
              " 'bedsheet': 360,\n",
              " 'diamond': 361,\n",
              " 'material': 362,\n",
              " 'bedroom': 363,\n",
              " 'electric': 364,\n",
              " 'off': 365,\n",
              " 'oz': 366,\n",
              " 'weight': 367,\n",
              " 'v': 368,\n",
              " 'gifts': 369,\n",
              " 'star': 370,\n",
              " 'big': 371,\n",
              " 'net': 372,\n",
              " 'ball': 373,\n",
              " 'shirts': 374,\n",
              " 'pendant': 375,\n",
              " 'carpet': 376,\n",
              " 'heart': 377,\n",
              " 'classic': 378,\n",
              " 'vintage': 379,\n",
              " 'plant': 380,\n",
              " 'micro': 381,\n",
              " 'square': 382,\n",
              " 'honor': 383,\n",
              " 'board': 384,\n",
              " 'organizer': 385,\n",
              " 'protective': 386,\n",
              " 'silicon': 387,\n",
              " 'work': 388,\n",
              " 'beautiful': 389,\n",
              " 'control': 390,\n",
              " 'stylish': 391,\n",
              " 'united': 392,\n",
              " 'wired': 393,\n",
              " 'n': 394,\n",
              " 'cap': 395,\n",
              " 'd': 396,\n",
              " 'powder': 397,\n",
              " 'made': 398,\n",
              " 'b': 399,\n",
              " 'puma': 400,\n",
              " 'flexible': 401,\n",
              " 'charging': 402,\n",
              " 'uv': 403,\n",
              " 'touch': 404,\n",
              " 'lenovo': 405,\n",
              " 'king': 406,\n",
              " 'gel': 407,\n",
              " '360': 408,\n",
              " 'fancy': 409,\n",
              " 'shoe': 410,\n",
              " 'head': 411,\n",
              " 'cat': 412,\n",
              " 'bathroom': 413,\n",
              " 'denim': 414,\n",
              " \"boys'\": 415,\n",
              " 'fast': 416,\n",
              " 'moto': 417,\n",
              " 'strap': 418,\n",
              " 'bumper': 419,\n",
              " 'rack': 420,\n",
              " 'toys': 421,\n",
              " 'pad': 422,\n",
              " 'meter': 423,\n",
              " '60': 424,\n",
              " 'band': 425,\n",
              " 'latest': 426,\n",
              " 'chain': 427,\n",
              " 'lens': 428,\n",
              " 'universal': 429,\n",
              " 'oneplus': 430,\n",
              " 'cartoon': 431,\n",
              " 'fan': 432,\n",
              " 'care': 433,\n",
              " '44': 434,\n",
              " 'remote': 435,\n",
              " 'vinyl': 436,\n",
              " 'support': 437,\n",
              " 'stick': 438,\n",
              " 'nail': 439,\n",
              " 'sky': 440,\n",
              " 'day': 441,\n",
              " 'slippers': 442,\n",
              " 'fruit': 443,\n",
              " 'kg': 444,\n",
              " 'salwar': 445,\n",
              " 'eye': 446,\n",
              " 'certified': 447,\n",
              " 'use': 448,\n",
              " 'huawei': 449,\n",
              " 'tshirt': 450,\n",
              " '500': 451,\n",
              " 'pu': 452,\n",
              " 'creation': 453,\n",
              " '34': 454,\n",
              " 'tan': 455,\n",
              " 'two': 456,\n",
              " 'pot': 457,\n",
              " 'house': 458,\n",
              " 'striped': 459,\n",
              " 'pant': 460,\n",
              " 'food': 461,\n",
              " 'knee': 462,\n",
              " 'speed': 463,\n",
              " 'auto': 464,\n",
              " 'copper': 465,\n",
              " 'backpack': 466,\n",
              " 'bags': 467,\n",
              " 'shockproof': 468,\n",
              " 'craft': 469,\n",
              " 'bar': 470,\n",
              " 'pearl': 471,\n",
              " 'ear': 472,\n",
              " 'pvc': 473,\n",
              " 'summer': 474,\n",
              " 'trousers': 475,\n",
              " 'dial': 476,\n",
              " 'wrap': 477,\n",
              " 'cool': 478,\n",
              " 'satin': 479,\n",
              " 'key': 480,\n",
              " 'my': 481,\n",
              " 'waist': 482,\n",
              " '2018': 483,\n",
              " 'soap': 484,\n",
              " 'lock': 485,\n",
              " 'your': 486,\n",
              " 'from': 487,\n",
              " 'seat': 488,\n",
              " 'dry': 489,\n",
              " 'cloth': 490,\n",
              " 'embroidered': 491,\n",
              " 'bracelet': 492,\n",
              " 'yoga': 493,\n",
              " 'pin': 494,\n",
              " 'organic': 495,\n",
              " 'cases': 496,\n",
              " '200': 497,\n",
              " 'colorful': 498,\n",
              " 'filter': 499,\n",
              " 'luxury': 500,\n",
              " 'professional': 501,\n",
              " 'iron': 502,\n",
              " 'ft': 503,\n",
              " 'spray': 504,\n",
              " 'georgette': 505,\n",
              " 'tools': 506,\n",
              " 'easy': 507,\n",
              " 'degree': 508,\n",
              " 'hp': 509,\n",
              " 'chair': 510,\n",
              " 'tank': 511,\n",
              " 'sunglasses': 512,\n",
              " 'assorted': 513,\n",
              " 'benetton': 514,\n",
              " 'clip': 515,\n",
              " 'e': 516,\n",
              " 'display': 517,\n",
              " 'makeup': 518,\n",
              " 'nokia': 519,\n",
              " 'fitness': 520,\n",
              " 'curtains': 521,\n",
              " 'game': 522,\n",
              " 'school': 523,\n",
              " 'shoulder': 524,\n",
              " 'modern': 525,\n",
              " 'pyjama': 526,\n",
              " 'android': 527,\n",
              " 'play': 528,\n",
              " 'ethnic': 529,\n",
              " 'pockets': 530,\n",
              " 'photo': 531,\n",
              " 'cut': 532,\n",
              " 'self': 533,\n",
              " 'cleaning': 534,\n",
              " 'background': 535,\n",
              " 'chrome': 536,\n",
              " 'shower': 537,\n",
              " 'ladies': 538,\n",
              " 'prime': 539,\n",
              " '2019': 540,\n",
              " 'dust': 541,\n",
              " 'floor': 542,\n",
              " 'store': 543,\n",
              " 'gemstone': 544,\n",
              " 'lite': 545,\n",
              " 'sheet': 546,\n",
              " '28': 547,\n",
              " 'checkered': 548,\n",
              " 'you': 549,\n",
              " 'ac': 550,\n",
              " 'r': 551,\n",
              " 'leggings': 552,\n",
              " 'jewelry': 553,\n",
              " 'velvet': 554,\n",
              " 'pet': 555,\n",
              " 'container': 556,\n",
              " 'xs': 557,\n",
              " 'scratch': 558,\n",
              " 'gray': 559,\n",
              " 'hybrid': 560,\n",
              " 'bath': 561,\n",
              " 'multipurpose': 562,\n",
              " 'tray': 563,\n",
              " 'plate': 564,\n",
              " 'maruti': 565,\n",
              " 'clock': 566,\n",
              " 'skirt': 567,\n",
              " 'lights': 568,\n",
              " 'deep': 569,\n",
              " 'magic': 570,\n",
              " 'wash': 571,\n",
              " 'genuine': 572,\n",
              " 'coverage': 573,\n",
              " 'vest': 574,\n",
              " 'extra': 575,\n",
              " 'mesh': 576,\n",
              " 'track': 577,\n",
              " 'audio': 578,\n",
              " 'tops': 579,\n",
              " 'indoor': 580,\n",
              " 'peach': 581,\n",
              " 'sport': 582,\n",
              " 'sleeveless': 583,\n",
              " '39': 584,\n",
              " 'wire': 585,\n",
              " 'pencil': 586,\n",
              " 'stitched': 587,\n",
              " 'standard': 588,\n",
              " 'logo': 589,\n",
              " 'sofa': 590,\n",
              " 'flat': 591,\n",
              " 'foam': 592,\n",
              " 'tape': 593,\n",
              " 'original': 594,\n",
              " 'may': 595,\n",
              " 'wedding': 596,\n",
              " 'mount': 597,\n",
              " 'cake': 598,\n",
              " 'analog': 599,\n",
              " 'elastic': 600,\n",
              " '17': 601,\n",
              " 'tc': 602,\n",
              " 'world': 603,\n",
              " 'tree': 604,\n",
              " 'comfortable': 605,\n",
              " 'foot': 606,\n",
              " 'wine': 607,\n",
              " 'view': 608,\n",
              " 'name': 609,\n",
              " 'layer': 610,\n",
              " 'dupatta': 611,\n",
              " 'gloves': 612,\n",
              " 'graphic': 613,\n",
              " 'palazzo': 614,\n",
              " 'mouse': 615,\n",
              " 'pair': 616,\n",
              " 'man': 617,\n",
              " 'winter': 618,\n",
              " '–': 619,\n",
              " 'artificial': 620,\n",
              " 'lid': 621,\n",
              " 'perfect': 622,\n",
              " 'music': 623,\n",
              " 'olive': 624,\n",
              " 'keyboard': 625,\n",
              " 'crepe': 626,\n",
              " 'data': 627,\n",
              " 'jack': 628,\n",
              " 'duty': 629,\n",
              " 'k': 630,\n",
              " 'boy': 631,\n",
              " 'blend': 632,\n",
              " 'gown': 633,\n",
              " 'panty': 634,\n",
              " 'shock': 635,\n",
              " 'foldable': 636,\n",
              " 'thread': 637,\n",
              " 'beauty': 638,\n",
              " 'button': 639,\n",
              " 'coloured': 640,\n",
              " 'lycra': 641,\n",
              " 'chocolate': 642,\n",
              " 'beads': 643,\n",
              " 'basket': 644,\n",
              " 'wheel': 645,\n",
              " 'american': 646,\n",
              " 'shelf': 647,\n",
              " 'tablet': 648,\n",
              " 'unstitched': 649,\n",
              " 'semi': 650,\n",
              " 'base': 651,\n",
              " 'maxi': 652,\n",
              " 'reusable': 653,\n",
              " 'towel': 654,\n",
              " 'without': 655,\n",
              " 'panel': 656,\n",
              " 'vary': 657,\n",
              " 'bottom': 658,\n",
              " 'motorola': 659,\n",
              " 'only': 660,\n",
              " 'embroidery': 661,\n",
              " 'creative': 662,\n",
              " '5mm': 663,\n",
              " 'flops': 664,\n",
              " 'safety': 665,\n",
              " 'acrylic': 666,\n",
              " 'system': 667,\n",
              " 'gm': 668,\n",
              " 'antique': 669,\n",
              " 'lcd': 670,\n",
              " 'durable': 671,\n",
              " 'unlimited': 672,\n",
              " 'lord': 673,\n",
              " 'stickers': 674,\n",
              " 'sony': 675,\n",
              " 'thin': 676,\n",
              " 'core': 677,\n",
              " 'dc': 678,\n",
              " 'ipad': 679,\n",
              " 'life': 680,\n",
              " 'h': 681,\n",
              " 'jar': 682,\n",
              " 'nighty': 683,\n",
              " 'look': 684,\n",
              " 'woman': 685,\n",
              " 'year': 686,\n",
              " 'loose': 687,\n",
              " 'bowl': 688,\n",
              " 'cutter': 689,\n",
              " 'lg': 690,\n",
              " 'sweatshirt': 691,\n",
              " 'sterling': 692,\n",
              " 'liquid': 693,\n",
              " 'special': 694,\n",
              " 'mic': 695,\n",
              " '19': 696,\n",
              " '300': 697,\n",
              " 'animal': 698,\n",
              " 'action': 699,\n",
              " '90': 700,\n",
              " 'p': 701,\n",
              " 'creations': 702,\n",
              " 'amp': 703,\n",
              " 'poly': 704,\n",
              " 'happy': 705,\n",
              " 'tv': 706,\n",
              " 'little': 707,\n",
              " 'elegant': 708,\n",
              " 'clothes': 709,\n",
              " 'suzuki': 710,\n",
              " 'carbon': 711,\n",
              " 'block': 712,\n",
              " 'collar': 713,\n",
              " 'figure': 714,\n",
              " 'ice': 715,\n",
              " 'nylon': 716,\n",
              " 'sexy': 717,\n",
              " 'tube': 718,\n",
              " 'dining': 719,\n",
              " '41': 720,\n",
              " 'fiber': 721,\n",
              " 'symbol': 722,\n",
              " '9h': 723,\n",
              " 'hub': 724,\n",
              " 'doll': 725,\n",
              " 'grip': 726,\n",
              " 'lightweight': 727,\n",
              " 'headphones': 728,\n",
              " 'enterprises': 729,\n",
              " 'sandal': 730,\n",
              " 'replacement': 731,\n",
              " 'queen': 732,\n",
              " 'notebook': 733,\n",
              " 'abstract': 734,\n",
              " 'warm': 735,\n",
              " 'asus': 736,\n",
              " 'film': 737,\n",
              " 'adidas': 738,\n",
              " 'male': 739,\n",
              " 'roll': 740,\n",
              " 'kitty': 741,\n",
              " 'marble': 742,\n",
              " 'j7': 743,\n",
              " '22': 744,\n",
              " 'u': 745,\n",
              " 'mix': 746,\n",
              " 'princess': 747,\n",
              " 'pump': 748,\n",
              " 'each': 749,\n",
              " 'watt': 750,\n",
              " 'book': 751,\n",
              " 'rear': 752,\n",
              " 'folding': 753,\n",
              " 'go': 754,\n",
              " 'printfidaa': 755,\n",
              " 'sm': 756,\n",
              " 'bulb': 757,\n",
              " '75': 758,\n",
              " 'furniture': 759,\n",
              " 'skinny': 760,\n",
              " 'linen': 761,\n",
              " 'switch': 762,\n",
              " 'sun': 763,\n",
              " 'adhesive': 764,\n",
              " 'children': 765,\n",
              " 'comfort': 766,\n",
              " 'cross': 767,\n",
              " 'drop': 768,\n",
              " 'flowers': 769,\n",
              " 'desk': 770,\n",
              " 'faux': 771,\n",
              " 'fresh': 772,\n",
              " 'purpose': 773,\n",
              " 'fine': 774,\n",
              " 'handbag': 775,\n",
              " 'nike': 776,\n",
              " 'ankle': 777,\n",
              " 'polycarbonate': 778,\n",
              " 'shampoo': 779,\n",
              " '43': 780,\n",
              " 'quote': 781,\n",
              " 'edition': 782,\n",
              " 'christmas': 783,\n",
              " 'ratti': 784,\n",
              " 'memory': 785,\n",
              " 'paint': 786,\n",
              " 'training': 787,\n",
              " 'theme': 788,\n",
              " 'honda': 789,\n",
              " 'automatic': 790,\n",
              " 'scale': 791,\n",
              " 'earring': 792,\n",
              " 'statue': 793,\n",
              " 'shaped': 794,\n",
              " 'vegetable': 795,\n",
              " 'open': 796,\n",
              " 'acm': 797,\n",
              " 'tie': 798,\n",
              " 'coat': 799,\n",
              " 'drive': 800,\n",
              " 'designs': 801,\n",
              " 'walking': 802,\n",
              " 'speaker': 803,\n",
              " 'cleaner': 804,\n",
              " '5d': 805,\n",
              " 'grade': 806,\n",
              " 'quick': 807,\n",
              " 'stereo': 808,\n",
              " 'mattress': 809,\n",
              " '2020': 810,\n",
              " 'glitter': 811,\n",
              " 'rc': 812,\n",
              " 'boots': 813,\n",
              " 'real': 814,\n",
              " 'krishna': 815,\n",
              " 'port': 816,\n",
              " 'aqua': 817,\n",
              " 'blanket': 818,\n",
              " 'hook': 819,\n",
              " 'motorcycle': 820,\n",
              " '45': 821,\n",
              " 'pantaloons': 822,\n",
              " 'unique': 823,\n",
              " 'crafts': 824,\n",
              " 'stretchable': 825,\n",
              " 'dispenser': 826,\n",
              " 'beach': 827,\n",
              " 'idol': 828,\n",
              " 'cms': 829,\n",
              " 'low': 830,\n",
              " 'sound': 831,\n",
              " 'glasses': 832,\n",
              " 'metallic': 833,\n",
              " '21': 834,\n",
              " 'woven': 835,\n",
              " '150': 836,\n",
              " 'capri': 837,\n",
              " '26': 838,\n",
              " 'zipper': 839,\n",
              " 'closure': 840,\n",
              " 'ink': 841,\n",
              " '35': 842,\n",
              " 'armor': 843,\n",
              " 'ounce': 844,\n",
              " 'f': 845,\n",
              " 'alloy': 846,\n",
              " 'dad': 847,\n",
              " 'lehenga': 848,\n",
              " 'lip': 849,\n",
              " 'hyundai': 850,\n",
              " 'products': 851,\n",
              " 'like': 852,\n",
              " 'is': 853,\n",
              " 'brief': 854,\n",
              " 'computer': 855,\n",
              " 'plush': 856,\n",
              " 'essential': 857,\n",
              " 'multicolored': 858,\n",
              " '2017': 859,\n",
              " 'imported': 860,\n",
              " 'good': 861,\n",
              " 'aluminum': 862,\n",
              " 'seater': 863,\n",
              " 'mom': 864,\n",
              " '250': 865,\n",
              " 'grams': 866,\n",
              " 'maker': 867,\n",
              " '2016': 868,\n",
              " 'ram': 869,\n",
              " 'guitar': 870,\n",
              " 'sling': 871,\n",
              " 'gsm': 872,\n",
              " 'london': 873,\n",
              " 'renewed': 874,\n",
              " 'female': 875,\n",
              " 'decal': 876,\n",
              " 'tshirts': 877,\n",
              " 'indigo': 878,\n",
              " 'choli': 879,\n",
              " 'décor': 880,\n",
              " 'wide': 881,\n",
              " 'eyelet': 882,\n",
              " 'turquoise': 883,\n",
              " 'gun': 884,\n",
              " 'glue': 885,\n",
              " 'microfiber': 886,\n",
              " 'honey': 887,\n",
              " 'washing': 888,\n",
              " 'diary': 889,\n",
              " 'inner': 890,\n",
              " '01': 891,\n",
              " 'charcoal': 892,\n",
              " 'international': 893,\n",
              " 'couple': 894,\n",
              " 'bass': 895,\n",
              " 'dresses': 896,\n",
              " 'washable': 897,\n",
              " 'kickstand': 898,\n",
              " 'motor': 899,\n",
              " 'aluminium': 900,\n",
              " 'hi': 901,\n",
              " 'me': 902,\n",
              " 'rod': 903,\n",
              " 'string': 904,\n",
              " 'making': 905,\n",
              " 'safe': 906,\n",
              " 'plug': 907,\n",
              " 'electronic': 908,\n",
              " '1000': 909,\n",
              " 'melange': 910,\n",
              " '2xl': 911,\n",
              " 'mustard': 912,\n",
              " 'jewels': 913,\n",
              " 'anarkali': 914,\n",
              " 'mats': 915,\n",
              " 'height': 916,\n",
              " 'shell': 917,\n",
              " 'leaf': 918,\n",
              " 'gear': 919,\n",
              " 'anniversary': 920,\n",
              " 'old': 921,\n",
              " 'spring': 922,\n",
              " 'video': 923,\n",
              " 'friends': 924,\n",
              " 'push': 925,\n",
              " 'loafers': 926,\n",
              " 'rotating': 927,\n",
              " 'fish': 928,\n",
              " 'letter': 929,\n",
              " 'cold': 930,\n",
              " 'funky': 931,\n",
              " 'rope': 932,\n",
              " 'pan': 933,\n",
              " 'sheets': 934,\n",
              " 'enterprise': 935,\n",
              " 'gram': 936,\n",
              " 'fully': 937,\n",
              " 'heat': 938,\n",
              " 'connector': 939,\n",
              " 'windows': 940,\n",
              " 'workout': 941,\n",
              " '2pcs': 942,\n",
              " 'sea': 943,\n",
              " 'framed': 944,\n",
              " 'dell': 945,\n",
              " 'hero': 946,\n",
              " '12v': 947,\n",
              " 'shengshou': 948,\n",
              " 'rechargeable': 949,\n",
              " 'eco': 950,\n",
              " 'hoodie': 951,\n",
              " '400': 952,\n",
              " 'capacity': 953,\n",
              " 'facial': 954,\n",
              " 'funny': 955,\n",
              " '48': 956,\n",
              " 'socks': 957,\n",
              " 'family': 958,\n",
              " 'milk': 959,\n",
              " 'quotes': 960,\n",
              " 'pads': 961,\n",
              " '80': 962,\n",
              " 'bangle': 963,\n",
              " 'cord': 964,\n",
              " 'not': 965,\n",
              " 'live': 966,\n",
              " 'earphone': 967,\n",
              " 'showpiece': 968,\n",
              " 'function': 969,\n",
              " 'paintings': 970,\n",
              " 'pikkme': 971,\n",
              " 'electroprime': 972,\n",
              " 'allen': 973,\n",
              " 'hat': 974,\n",
              " 'bright': 975,\n",
              " 'finger': 976,\n",
              " 'tee': 977,\n",
              " 'as': 978,\n",
              " 'colored': 979,\n",
              " 'gaming': 980,\n",
              " 'bamboo': 981,\n",
              " 'army': 982,\n",
              " 'stripe': 983,\n",
              " 'thick': 984,\n",
              " 'adult': 985,\n",
              " 'handloom': 986,\n",
              " 'studio': 987,\n",
              " 'clothing': 988,\n",
              " 'sarees': 989,\n",
              " 'headset': 990,\n",
              " '37': 991,\n",
              " 'daily': 992,\n",
              " '925': 993,\n",
              " '46': 994,\n",
              " 'exclusive': 995,\n",
              " 'costume': 996,\n",
              " 'shop': 997,\n",
              " 'sensor': 998,\n",
              " 'football': 999,\n",
              " 'butterfly': 1000,\n",
              " ...}"
            ]
          },
          "metadata": {
            "tags": []
          },
          "execution_count": 16
        }
      ]
    },
    {
      "cell_type": "code",
      "metadata": {
        "colab": {
          "base_uri": "https://localhost:8080/"
        },
        "id": "INYtPwh8_dE9",
        "outputId": "8f810085-a4cc-4c05-d503-d9d1b28ea119"
      },
      "source": [
        "!wget http://nlp.stanford.edu/data/glove.6B.zip\n",
        "!unzip -q glove.6B.zip"
      ],
      "execution_count": 17,
      "outputs": [
        {
          "output_type": "stream",
          "text": [
            "--2021-07-30 20:47:07--  http://nlp.stanford.edu/data/glove.6B.zip\n",
            "Resolving nlp.stanford.edu (nlp.stanford.edu)... 171.64.67.140\n",
            "Connecting to nlp.stanford.edu (nlp.stanford.edu)|171.64.67.140|:80... connected.\n",
            "HTTP request sent, awaiting response... 302 Found\n",
            "Location: https://nlp.stanford.edu/data/glove.6B.zip [following]\n",
            "--2021-07-30 20:47:07--  https://nlp.stanford.edu/data/glove.6B.zip\n",
            "Connecting to nlp.stanford.edu (nlp.stanford.edu)|171.64.67.140|:443... connected.\n",
            "HTTP request sent, awaiting response... 301 Moved Permanently\n",
            "Location: http://downloads.cs.stanford.edu/nlp/data/glove.6B.zip [following]\n",
            "--2021-07-30 20:47:07--  http://downloads.cs.stanford.edu/nlp/data/glove.6B.zip\n",
            "Resolving downloads.cs.stanford.edu (downloads.cs.stanford.edu)... 171.64.64.22\n",
            "Connecting to downloads.cs.stanford.edu (downloads.cs.stanford.edu)|171.64.64.22|:80... connected.\n",
            "HTTP request sent, awaiting response... 200 OK\n",
            "Length: 862182613 (822M) [application/zip]\n",
            "Saving to: ‘glove.6B.zip’\n",
            "\n",
            "glove.6B.zip        100%[===================>] 822.24M  5.06MB/s    in 2m 40s  \n",
            "\n",
            "2021-07-30 20:49:48 (5.14 MB/s) - ‘glove.6B.zip’ saved [862182613/862182613]\n",
            "\n"
          ],
          "name": "stdout"
        }
      ]
    },
    {
      "cell_type": "code",
      "metadata": {
        "id": "zj08cHToVSA1",
        "colab": {
          "base_uri": "https://localhost:8080/"
        },
        "outputId": "c55d4662-7765-4f60-ebce-dbb29b1a6326"
      },
      "source": [
        "embedding_dim = 300\n",
        "embedding_index = dict()\n",
        "f = open('glove.6B.300d.txt', encoding=\"utf8\")\n",
        "for line in f:\n",
        "    values = line.split()\n",
        "    word = values[0]\n",
        "    coefs = np.asarray(values[1:], dtype='float32')\n",
        "    embedding_index[word] = coefs\n",
        "f.close()\n",
        "print('Loaded %s word vectors.' % len(embedding_index))"
      ],
      "execution_count": 18,
      "outputs": [
        {
          "output_type": "stream",
          "text": [
            "Loaded 400000 word vectors.\n"
          ],
          "name": "stdout"
        }
      ]
    },
    {
      "cell_type": "code",
      "metadata": {
        "id": "BbSXT-FMKZdP",
        "outputId": "e24b49c6-deb5-4c7c-fb23-c99a32168217",
        "colab": {
          "base_uri": "https://localhost:8080/"
        }
      },
      "source": [
        "!rm glove.6B.100d.txt  glove.6B.300d.txt  glove.6B.zip dataset52a7b21.zip  glove.6B.200d.txt  glove.6B.50d.txt"
      ],
      "execution_count": 22,
      "outputs": [
        {
          "output_type": "stream",
          "text": [
            "rm: cannot remove 'glove.6B.100d.txt': No such file or directory\n",
            "rm: cannot remove 'glove.6B.300d.txt': No such file or directory\n",
            "rm: cannot remove 'glove.6B.zip': No such file or directory\n",
            "rm: cannot remove 'dataset52a7b21.zip': No such file or directory\n",
            "rm: cannot remove 'glove.6B.200d.txt': No such file or directory\n",
            "rm: cannot remove 'glove.6B.50d.txt': No such file or directory\n"
          ],
          "name": "stdout"
        }
      ]
    },
    {
      "cell_type": "code",
      "metadata": {
        "colab": {
          "base_uri": "https://localhost:8080/",
          "height": 86
        },
        "id": "ejeGvjf1C28R",
        "outputId": "1b3c194a-1402-4160-ea77-ce043c56d0db"
      },
      "source": [
        "'''EMBEDDING_DIM=300\n",
        "vocabulary_size=min(len(word_index)+1,(NUM_WORDS))\n",
        "\n",
        "embedding_matrix = np.zeros((vocabulary_size, EMBEDDING_DIM))\n",
        "\n",
        "\n",
        "for word, i in word_index.items():\n",
        "    if i>=NUM_WORDS:\n",
        "        continue\n",
        "    try:\n",
        "        embedding_vector = word_vectors[word]\n",
        "        embedding_matrix[i] = embedding_vector\n",
        "    except KeyError:\n",
        "        vec = np.zeros(EMBEDDING_DIM)\n",
        "\n",
        "del(word_vectors)#to free up space'''"
      ],
      "execution_count": 23,
      "outputs": [
        {
          "output_type": "execute_result",
          "data": {
            "application/vnd.google.colaboratory.intrinsic+json": {
              "type": "string"
            },
            "text/plain": [
              "'EMBEDDING_DIM=300\\nvocabulary_size=min(len(word_index)+1,(NUM_WORDS))\\n\\nembedding_matrix = np.zeros((vocabulary_size, EMBEDDING_DIM))\\n\\n\\nfor word, i in word_index.items():\\n    if i>=NUM_WORDS:\\n        continue\\n    try:\\n        embedding_vector = word_vectors[word]\\n        embedding_matrix[i] = embedding_vector\\n    except KeyError:\\n        vec = np.zeros(EMBEDDING_DIM)\\n\\ndel(word_vectors)#to free up space'"
            ]
          },
          "metadata": {
            "tags": []
          },
          "execution_count": 23
        }
      ]
    },
    {
      "cell_type": "code",
      "metadata": {
        "id": "8o_LETKDvq8-"
      },
      "source": [
        ""
      ],
      "execution_count": 23,
      "outputs": []
    },
    {
      "cell_type": "code",
      "metadata": {
        "id": "hLAOP9ozYIx1"
      },
      "source": [
        "embedding_matrix = np.zeros((max_features, embedding_dim))\n",
        "for word, index in x_tokenizer.word_index.items():\n",
        "  if index>max_features -1:\n",
        "    break\n",
        "  else:\n",
        "    embedding_vector = embedding_index.get(word)\n",
        "    if embedding_vector is not None:\n",
        "      embedding_matrix[index] = embedding_vector\n",
        "del(embedding_vector)"
      ],
      "execution_count": 24,
      "outputs": []
    },
    {
      "cell_type": "code",
      "metadata": {
        "id": "Hn-sjHYZDHLU"
      },
      "source": [
        "model = Sequential()\n",
        "model.add(Embedding(max_features,\n",
        "                    embedding_dim,\n",
        "                    embeddings_initializer=tf.keras.initializers.Constant(\n",
        "                        embedding_matrix),trainable=False))\n",
        "model.add(Dropout(0.2))\n"
      ],
      "execution_count": 25,
      "outputs": []
    },
    {
      "cell_type": "code",
      "metadata": {
        "id": "fVICq9bCDMjk"
      },
      "source": [
        "del(embedding_matrix)"
      ],
      "execution_count": 26,
      "outputs": []
    },
    {
      "cell_type": "markdown",
      "metadata": {
        "id": "7df7zRebZfTP"
      },
      "source": [
        "### Building The Model"
      ]
    },
    {
      "cell_type": "code",
      "metadata": {
        "id": "fSPn5SmQZoau"
      },
      "source": [
        "filters = 250\n",
        "kernel_size = 3\n",
        "hidden_dims = 250"
      ],
      "execution_count": 27,
      "outputs": []
    },
    {
      "cell_type": "code",
      "metadata": {
        "id": "FLEToGmCb3ZF",
        "colab": {
          "base_uri": "https://localhost:8080/"
        },
        "outputId": "5bf8855b-0d4d-4841-bc0e-92c51f6ada6c"
      },
      "source": [
        "model.add(Conv1D(filters,\n",
        "                 kernel_size,\n",
        "                 padding='valid'))\n",
        "model.add(MaxPooling1D())\n",
        "model.add(Conv1D(filters,\n",
        "                 5,\n",
        "                 padding='valid',\n",
        "                 activation='relu'))\n",
        "model.add(GlobalMaxPooling1D())\n",
        "model.add(Dense(hidden_dims, activation='relu'))\n",
        "model.add(Dropout(0.2))\n",
        "\n",
        "model.add(Dense(1,activation='sigmoid'))\n",
        "model.summary()"
      ],
      "execution_count": 28,
      "outputs": [
        {
          "output_type": "stream",
          "text": [
            "Model: \"sequential\"\n",
            "_________________________________________________________________\n",
            "Layer (type)                 Output Shape              Param #   \n",
            "=================================================================\n",
            "embedding (Embedding)        (None, None, 300)         60000000  \n",
            "_________________________________________________________________\n",
            "dropout (Dropout)            (None, None, 300)         0         \n",
            "_________________________________________________________________\n",
            "conv1d (Conv1D)              (None, None, 250)         225250    \n",
            "_________________________________________________________________\n",
            "max_pooling1d (MaxPooling1D) (None, None, 250)         0         \n",
            "_________________________________________________________________\n",
            "conv1d_1 (Conv1D)            (None, None, 250)         312750    \n",
            "_________________________________________________________________\n",
            "global_max_pooling1d (Global (None, 250)               0         \n",
            "_________________________________________________________________\n",
            "dense (Dense)                (None, 250)               62750     \n",
            "_________________________________________________________________\n",
            "dropout_1 (Dropout)          (None, 250)               0         \n",
            "_________________________________________________________________\n",
            "dense_1 (Dense)              (None, 1)                 251       \n",
            "=================================================================\n",
            "Total params: 60,601,001\n",
            "Trainable params: 601,001\n",
            "Non-trainable params: 60,000,000\n",
            "_________________________________________________________________\n"
          ],
          "name": "stdout"
        }
      ]
    },
    {
      "cell_type": "code",
      "metadata": {
        "id": "R9H3ExHlzXFR"
      },
      "source": [
        "opt = Adam(learning_rate=1e-3)\n",
        "model.compile(loss='categorical_crossentropy',optimizer=opt,metrics=['accuracy'])"
      ],
      "execution_count": 29,
      "outputs": []
    },
    {
      "cell_type": "markdown",
      "metadata": {
        "id": "Ya9rhe8QcVrV"
      },
      "source": [
        "Train Model"
      ]
    },
    {
      "cell_type": "code",
      "metadata": {
        "id": "FCZRl3aTzLFZ",
        "outputId": "5c4e40d5-7700-4c60-f296-34453e32f2d1",
        "colab": {
          "base_uri": "https://localhost:8080/"
        }
      },
      "source": [
        "x_train_val"
      ],
      "execution_count": 30,
      "outputs": [
        {
          "output_type": "execute_result",
          "data": {
            "text/plain": [
              "array([[   0,    0,    0, ...,  263,   20,   33],\n",
              "       [   0,    0,    0, ...,   22,   18,   20],\n",
              "       [   0,    0,    0, ..., 2412,    4, 1122],\n",
              "       ...,\n",
              "       [   0,    0,    0, ...,   21, 1038, 4599],\n",
              "       [   0,    0,    0, ...,  939, 2245,   19],\n",
              "       [   0,    0,    0, ...,  240,  450,  347]], dtype=int32)"
            ]
          },
          "metadata": {
            "tags": []
          },
          "execution_count": 30
        }
      ]
    },
    {
      "cell_type": "code",
      "metadata": {
        "id": "xfBdKTLT002H",
        "outputId": "1dd039b9-cc2a-472c-95be-2810531ea24a",
        "colab": {
          "base_uri": "https://localhost:8080/"
        }
      },
      "source": [
        "print(\"shape of x is:\",x_train_val.shape)\n",
        "print(\"shape of y is:\",y.shape)"
      ],
      "execution_count": 31,
      "outputs": [
        {
          "output_type": "stream",
          "text": [
            "shape of x is: (2903024, 400)\n",
            "shape of y is: (2903024,)\n"
          ],
          "name": "stdout"
        }
      ]
    },
    {
      "cell_type": "code",
      "metadata": {
        "id": "QwYgXtNZcjZ4"
      },
      "source": [
        "x_train, x_val, y_train, y_val = train_test_split(x_train_val,\n",
        "                                                  y,\n",
        "                                                  random_state=1,\n",
        "                                                  test_size=0.15)"
      ],
      "execution_count": null,
      "outputs": []
    },
    {
      "cell_type": "code",
      "metadata": {
        "id": "i1lpjeBMepE-"
      },
      "source": [
        "%%time\n",
        "batch_size = 32\n",
        "epochs = 3\n",
        "\n",
        "callbacks = [EarlyStopping(monitor='val_loss')]\n",
        "hist_adam = model.fit(x_train, y_train,\n",
        "          batch_size=batch_size,\n",
        "          epochs=3,\n",
        "          validation_data=(x_val,y_val),\n",
        "         callbacks=callbacks)"
      ],
      "execution_count": null,
      "outputs": []
    },
    {
      "cell_type": "code",
      "metadata": {
        "id": "SoSMHLM5DQmQ"
      },
      "source": [
        "sequence_length = train_df.shape[1]\n",
        "filter_sizes = [3,4]\n",
        "num_filters = 100\n",
        "drop = 0.4\n",
        "\n",
        "inputs = Input(shape=(sequence_length,))\n",
        "embedding = embedding_layer(inputs)\n",
        "reshape = Reshape((sequence_length,EMBEDDING_DIM,1))(embedding)\n",
        "\n",
        "conv_0 = Conv2D(num_filters, (filter_sizes[0], EMBEDDING_DIM),activation='relu',kernel_regularizer=regularizers.l2(0.01))(reshape)\n",
        "conv_1 = Conv2D(num_filters, (filter_sizes[1], EMBEDDING_DIM),activation='relu',kernel_regularizer=regularizers.l2(0.01))(reshape)\n",
        "\n",
        "maxpool_0 = MaxPooling2D((sequence_length - filter_sizes[0] + 1, 1), strides=(1,1))(conv_0)\n",
        "maxpool_1 = MaxPooling2D((sequence_length - filter_sizes[1] + 1, 1), strides=(1,1))(conv_1)\n",
        "\n",
        "merged_tensor = concatenate([maxpool_0, maxpool_1], axis=1)\n",
        "flatten = Flatten()(merged_tensor)\n",
        "reshape = Reshape((2*num_filters,))(flatten)\n",
        "dropout = Dropout(drop)(flatten)\n",
        "conc = Dense(40)(dropout)\n",
        "output = Dense(units=6, activation='sigmoid',kernel_regularizer=regularizers.l2(0.01))(conc)\n",
        "\n",
        "# this creates a model that includes\n",
        "model = Model(inputs, output)"
      ],
      "execution_count": null,
      "outputs": []
    },
    {
      "cell_type": "code",
      "metadata": {
        "id": "P2YmHAeyDZ5K"
      },
      "source": [
        "opt = Adam(lr=1e-3)\n",
        "model.compile(loss='categorical_crossentropy',optimizer=opt)\n",
        "\n",
        "# Fitting Model to the data\n",
        "callbacks = [EarlyStopping(monitor='val_loss')]\n",
        "hist_adam = model.fit(X_train, y_train, batch_size=1000, epochs=20, verbose=2, validation_data=(X_val, y_val),\n",
        "         callbacks=callbacks)"
      ],
      "execution_count": null,
      "outputs": []
    },
    {
      "cell_type": "code",
      "metadata": {
        "id": "wf3TmHqwDb1v"
      },
      "source": [
        "plt.suptitle('Optimizer : Adam', fontsize=10)\n",
        "plt.ylabel('Loss', fontsize=16)\n",
        "plt.xlabel('Epoch', fontsize=14)\n",
        "plt.plot(hist_adam.history['loss'], color='b', label='Training Loss')\n",
        "plt.plot(hist_adam.history['val_loss'], color='r', label='Validation Loss')\n",
        "plt.legend(loc='upper right')"
      ],
      "execution_count": null,
      "outputs": []
    },
    {
      "cell_type": "code",
      "metadata": {
        "id": "GToNpSDTDgp0"
      },
      "source": [
        "sequences_test=tokenizer.texts_to_sequences(X_test)\n",
        "X_test2 = pad_sequences(sequences_test,maxlen=X_train.shape[1])"
      ],
      "execution_count": null,
      "outputs": []
    },
    {
      "cell_type": "code",
      "metadata": {
        "id": "aQNElTNSDuu2"
      },
      "source": [
        "col = ['toxic', 'severe_toxic', 'obscene', 'threat','insult', 'identity_hate']\n",
        "\n",
        "# Predict on train, val and test datasets\n",
        "pred_train = model.predict(X_train)\n",
        "pred_test = model.predict(X_test2)\n",
        "pred_val = model.predict(X_val)\n",
        "\n",
        "# Emply array to collect AUC scores\n",
        "AUC = np.zeros((3,6))\n",
        "AUC\n"
      ],
      "execution_count": null,
      "outputs": []
    },
    {
      "cell_type": "code",
      "metadata": {
        "id": "yglZi28SD0Cc"
      },
      "source": [
        "from sklearn import metrics\n",
        "for i,x in enumerate(col):\n",
        "    auc = np.array([metrics.roc_auc_score(y_train[:,i], pred_train[:,i]),\n",
        "                    metrics.roc_auc_score(y_val[:,i], pred_val[:,i]),\n",
        "                    metrics.roc_auc_score(y_test[x], pred_test[:,i])])\n",
        "    print(x,\"Train AUC:\",auc[0],\", Val AUC:\",auc[1],\", Test AUC:\",auc[2])\n",
        "    AUC[:,i] = auc\n",
        "    \n",
        "avg_auc = AUC.mean(axis=1)\n",
        "print(\"Average Train AUC:\",avg_auc[0],\", Average Val AUC:\",avg_auc[1],\", Average Test AUC:\",avg_auc[2])"
      ],
      "execution_count": null,
      "outputs": []
    },
    {
      "cell_type": "code",
      "metadata": {
        "id": "IGDRqcCQD2is"
      },
      "source": [
        ""
      ],
      "execution_count": null,
      "outputs": []
    }
  ]
}
